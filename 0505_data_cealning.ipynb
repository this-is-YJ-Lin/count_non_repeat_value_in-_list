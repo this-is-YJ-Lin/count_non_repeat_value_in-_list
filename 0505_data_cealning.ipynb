{
 "cells": [
  {
   "cell_type": "code",
   "execution_count": null,
   "metadata": {},
   "outputs": [],
   "source": [
    "import requests\n",
    "import csv\n",
    "\n",
    "def get_title_from_file(address):\n",
    "    f= open(address, encoding = 'utf8')#讀所有詞\n",
    "    s = f.read()\n",
    "    #print(s)\n",
    "    spilt_s = s.split(\"\\n\")\n",
    "    return spilt_s\n",
    "\n",
    "print('---STAR---')\n",
    "print('ready to get value from file...')\n",
    "list_of_tmdb_id_director = get_title_from_file('count_non_repeat_diractor.txt')\n",
    "list_of_tmdb_id_actor = get_title_from_file('count_non_repeat_leading_actor.txt')\n",
    "print('sucess')"
   ]
  },
  {
   "cell_type": "code",
   "execution_count": null,
   "metadata": {},
   "outputs": [],
   "source": [
    "list_of_tmdb_id_director"
   ]
  },
  {
   "cell_type": "code",
   "execution_count": null,
   "metadata": {
    "collapsed": true
   },
   "outputs": [],
   "source": [
    "set_of_dirctor_list_in_tmdb_id = set(list_of_tmdb_id_director)"
   ]
  },
  {
   "cell_type": "code",
   "execution_count": null,
   "metadata": {},
   "outputs": [],
   "source": [
    "len(set_of_dirctor_list_in_tmdb_id)"
   ]
  },
  {
   "cell_type": "code",
   "execution_count": null,
   "metadata": {
    "collapsed": true
   },
   "outputs": [],
   "source": [
    "set_of_actor_list_in_tmdb_id = set(list_of_tmdb_id_actor)"
   ]
  },
  {
   "cell_type": "code",
   "execution_count": null,
   "metadata": {},
   "outputs": [],
   "source": [
    "len(set_of_actor_list_in_tmdb_id)"
   ]
  },
  {
   "cell_type": "code",
   "execution_count": 4,
   "metadata": {
    "collapsed": true
   },
   "outputs": [],
   "source": [
    "test = ['tt123', '', 'tt456789', '', 'tt567890', '', '', 'tt53294']"
   ]
  },
  {
   "cell_type": "code",
   "execution_count": 5,
   "metadata": {},
   "outputs": [],
   "source": [
    "while '' in test:\n",
    "    test.remove('')"
   ]
  },
  {
   "cell_type": "code",
   "execution_count": 6,
   "metadata": {},
   "outputs": [
    {
     "data": {
      "text/plain": [
       "['tt123', 'tt456789', 'tt567890', 'tt53294']"
      ]
     },
     "execution_count": 6,
     "metadata": {},
     "output_type": "execute_result"
    }
   ],
   "source": [
    "test"
   ]
  },
  {
   "cell_type": "code",
   "execution_count": 16,
   "metadata": {},
   "outputs": [
    {
     "name": "stdout",
     "output_type": "stream",
     "text": [
      "---STAR---\n",
      "\n",
      "...Ready to get value from file\n",
      "Len of unclean file: 15800\n",
      "Sucess...\n",
      "\n",
      "...Ready to clean the empty element from file\n",
      "Len of cleaned file: 15508\n",
      "Sucess...\n",
      "\n"
     ]
    }
   ],
   "source": [
    "import requests\n",
    "import csv\n",
    "\n",
    "def get_title_from_file(address):\n",
    "    f= open(address, encoding = 'utf8')#讀所有詞\n",
    "    s = f.read()\n",
    "    #print(s)\n",
    "    spilt_s = s.split(\"\\n\")\n",
    "    return spilt_s\n",
    "\n",
    "print('---STAR---')\n",
    "print()\n",
    "\n",
    "print('...Ready to get value from file')\n",
    "list_of_imdbid = get_title_from_file('unclean_null_clo_1-16598.txt')\n",
    "print('Len of unclean file:', len(list_of_imdbid))\n",
    "print('Sucess...')\n",
    "print()\n",
    "\n",
    "print('...Ready to clean the empty element from file')\n",
    "while '' in list_of_imdbid:\n",
    "    list_of_imdbid.remove('')\n",
    "print('Len of cleaned file:', len(list_of_imdbid))\n",
    "print('Sucess...')\n",
    "print() \n"
   ]
  },
  {
   "cell_type": "code",
   "execution_count": 9,
   "metadata": {},
   "outputs": [
    {
     "data": {
      "text/plain": [
       "15800"
      ]
     },
     "execution_count": 9,
     "metadata": {},
     "output_type": "execute_result"
    }
   ],
   "source": [
    "len(list_of_imdbid)"
   ]
  },
  {
   "cell_type": "code",
   "execution_count": 10,
   "metadata": {
    "collapsed": true
   },
   "outputs": [],
   "source": [
    "while '' in list_of_imdbid:\n",
    "    list_of_imdbid.remove('')"
   ]
  },
  {
   "cell_type": "code",
   "execution_count": 12,
   "metadata": {},
   "outputs": [
    {
     "data": {
      "text/plain": [
       "15508"
      ]
     },
     "execution_count": 12,
     "metadata": {},
     "output_type": "execute_result"
    }
   ],
   "source": [
    "len(list_of_imdbid)"
   ]
  },
  {
   "cell_type": "code",
   "execution_count": null,
   "metadata": {
    "collapsed": true
   },
   "outputs": [],
   "source": []
  }
 ],
 "metadata": {
  "kernelspec": {
   "display_name": "Python 3",
   "language": "python",
   "name": "python3"
  },
  "language_info": {
   "codemirror_mode": {
    "name": "ipython",
    "version": 3
   },
   "file_extension": ".py",
   "mimetype": "text/x-python",
   "name": "python",
   "nbconvert_exporter": "python",
   "pygments_lexer": "ipython3",
   "version": "3.6.1"
  }
 },
 "nbformat": 4,
 "nbformat_minor": 2
}
